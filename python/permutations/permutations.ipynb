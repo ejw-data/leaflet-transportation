{
 "cells": [
  {
   "attachments": {},
   "cell_type": "markdown",
   "metadata": {},
   "source": [
    "### Permutation Logic\n",
    "- may have uses in the future for evaluating sequences"
   ]
  },
  {
   "cell_type": "code",
   "execution_count": 70,
   "metadata": {},
   "outputs": [],
   "source": [
    "# returns unique permutations of an iterable object\n",
    "def permutation_results(string, no_reverse=False):\n",
    "    results=[]\n",
    "\n",
    "    # returns only values that are unique (same forward and reverse)\n",
    "    def distinct(perms):\n",
    "        new_list=[]\n",
    "        for i in perms:\n",
    "            # identify if alternate order is in list\n",
    "            if (i in new_list) or (i.reverse() in new_list):\n",
    "                # do nothing\n",
    "                pass\n",
    "            else:\n",
    "                # store unique sequence in list\n",
    "                new_list.append(i)\n",
    "\n",
    "        # return results\n",
    "        return new_list\n",
    "    \n",
    "    # \n",
    "    def permutations(string, step = 0, id=0):\n",
    "        # end squence\n",
    "        if step == len(string):\n",
    "            ## print out the iteration info\n",
    "            # print(f'IDb: {id}, Step: {step}, Iteration: Unset, Final Result: {string}')\n",
    "\n",
    "            # save recursion outcomes in results list\n",
    "            results.append(string)\n",
    "\n",
    "        # switch order of pairs incrementally from left to right\n",
    "        for i in range(step, len(string)):\n",
    "            # copy the string (store as array)\n",
    "            string_copy = [c for c in string]\n",
    "            # swap the current index with the step\n",
    "            string_copy[step], string_copy[i] =string_copy[i], string_copy[step]\n",
    "            # recurse on the portion of the string that has not been swapped yet\n",
    "            permutations(string_copy, step + 1, f'{id}.{i}')\n",
    "    \n",
    "    # start recursion\n",
    "    permutations(string)\n",
    "\n",
    "    # filter results so forward and reverse order are only stored once\n",
    "    if (no_reverse):\n",
    "        results = distinct(results)\n",
    "        \n",
    "    return results"
   ]
  },
  {
   "cell_type": "code",
   "execution_count": 72,
   "metadata": {},
   "outputs": [
    {
     "data": {
      "text/plain": [
       "60"
      ]
     },
     "execution_count": 72,
     "metadata": {},
     "output_type": "execute_result"
    }
   ],
   "source": [
    "# data examples\n",
    "s =[\"a\", \"b\", \"c\", \"d\", \"e\"]\n",
    "# s =[\"a\", \"b\", \"c\", \"d\"]\n",
    "\n",
    "# test\n",
    "perms = permutation_results(s, no_reverse=True)\n",
    "len(perms)"
   ]
  },
  {
   "attachments": {},
   "cell_type": "markdown",
   "metadata": {},
   "source": [
    "### Other Test Logic"
   ]
  },
  {
   "cell_type": "code",
   "execution_count": 67,
   "metadata": {},
   "outputs": [
    {
     "name": "stdout",
     "output_type": "stream",
     "text": [
      "0.1.2.3.3\n"
     ]
    }
   ],
   "source": [
    "# test code resulting in a string\n",
    "# ABC should result in 0.1.2.2\n",
    "word=\"ABCD\"\n",
    "\n",
    "def last_iter(str):\n",
    "    string=\"0\"\n",
    "    for i in range(len(str)-1):\n",
    "        string += f'.{i+1}' \n",
    "    string += f'.{len(str)-1}'\n",
    "    return string\n",
    "\n",
    "# test\n",
    "print(last_iter(word))"
   ]
  },
  {
   "attachments": {},
   "cell_type": "markdown",
   "metadata": {},
   "source": [
    "#### Improve permutation \n",
    "- improve code so only parts of the branches need to run "
   ]
  },
  {
   "cell_type": "code",
   "execution_count": 68,
   "metadata": {},
   "outputs": [],
   "source": [
    "# trying to improve efficiency so there is no need to store values or reiterate over lists\n",
    "# not working completely - need to visualize results of a 4 item object\n",
    "def permutation_norepeats_results(string):\n",
    "    results=[]\n",
    "    \n",
    "    def permutation_restricted(string, step = 0, id=0):\n",
    "        \n",
    "        \n",
    "        def last_iter(word):\n",
    "            string=\"0\"\n",
    "            for i in range(len(word)-1):\n",
    "                string += f'.{i+1}' \n",
    "            string += f'.{len(word)-1}'\n",
    "            return string\n",
    "        \n",
    "        last_check = last_iter(string)\n",
    "        \n",
    "        if step == len(string):\n",
    "            if (id != last_check) and (int(len(string)/2)%2 !=0):\n",
    "                # print(f'IDb: {id}, Step: {step}, Iteration: Unset, Final Result: {string}')\n",
    "                results.append(string)\n",
    "\n",
    "            elif (int(len(string)/2)%2 ==0):\n",
    "                # print(f'IDb: {id}, Step: {step}, Iteration: Unset, Final Result: {string}')\n",
    "                results.append(string)\n",
    "\n",
    "        for i in range(step, len(string)):\n",
    "            # copy the string (store as array)\n",
    "            string_copy = [c for c in string]\n",
    "            \n",
    "            if (step == 0) and (i < int(len(string)/2)) and (int(len(string)/2)%2 ==0):\n",
    "                # swap the current index with the step\n",
    "                string_copy[step], string_copy[i] = string_copy[i], string_copy[step]\n",
    "                # recurse on the portion of the string that has not been swapped yet\n",
    "                permutation_restricted(string_copy, step + 1, f'{id}.{i}')\n",
    "\n",
    "            elif (step==0) and (i <int(len(string)/2+1)) and (int(len(string)/2)%2 !=0):\n",
    "                # swap the current index with the step\n",
    "                string_copy[step], string_copy[i] = string_copy[i], string_copy[step]\n",
    "                # recurse on the portion of the string that has not been swapped yet\n",
    "                permutation_restricted(string_copy, step + 1, f'{id}.{i}')\n",
    "                    \n",
    "            elif (step > 0):\n",
    "                # swap the current index with the step\n",
    "                string_copy[step], string_copy[i] = string_copy[i], string_copy[step]\n",
    "                # recurse on the portion of the string that has not been swapped yet\n",
    "                permutation_restricted(string_copy, step + 1, f'{id}.{i}')\n",
    "\n",
    "    permutation_restricted(string)\n",
    "\n",
    "    return results"
   ]
  },
  {
   "cell_type": "code",
   "execution_count": 69,
   "metadata": {},
   "outputs": [
    {
     "data": {
      "text/plain": [
       "48"
      ]
     },
     "execution_count": 69,
     "metadata": {},
     "output_type": "execute_result"
    }
   ],
   "source": [
    "# Test\n",
    "a = permutation_norepeats_results(s)\n",
    "len(a)"
   ]
  }
 ],
 "metadata": {
  "kernelspec": {
   "display_name": "base",
   "language": "python",
   "name": "python3"
  },
  "language_info": {
   "codemirror_mode": {
    "name": "ipython",
    "version": 3
   },
   "file_extension": ".py",
   "mimetype": "text/x-python",
   "name": "python",
   "nbconvert_exporter": "python",
   "pygments_lexer": "ipython3",
   "version": "3.10.9"
  },
  "orig_nbformat": 4
 },
 "nbformat": 4,
 "nbformat_minor": 2
}

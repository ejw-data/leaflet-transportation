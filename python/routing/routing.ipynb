{
 "cells": [
  {
   "cell_type": "code",
   "execution_count": 1,
   "metadata": {},
   "outputs": [
    {
     "name": "stdout",
     "output_type": "stream",
     "text": [
      "Stop 1: [0 0]\n",
      "Stop 2: [2 4]\n",
      "Stop 3: [3 6]\n",
      "Stop 4: [5 2]\n",
      "Stop 5: [1 3]\n",
      "Stop 6: [0 0]\n"
     ]
    }
   ],
   "source": [
    "import numpy as np\n",
    "from scipy.spatial import distance_matrix\n",
    "from ortools.constraint_solver import routing_enums_pb2\n",
    "from ortools.constraint_solver import pywrapcp\n",
    "\n",
    "\n",
    "def solve_tsp(locations):\n",
    "    num_locations = len(locations)\n",
    "    \n",
    "    # Calculate distance matrix between locations\n",
    "    dist_matrix = distance_matrix(locations, locations)\n",
    "    \n",
    "    # Create the routing index manager\n",
    "    manager = pywrapcp.RoutingIndexManager(num_locations, 1, 0)\n",
    "    \n",
    "    # Create the routing model\n",
    "    routing = pywrapcp.RoutingModel(manager)\n",
    "    \n",
    "    # Define distance callback (returns the distance between two locations)\n",
    "    def distance_callback(from_index, to_index):\n",
    "        from_node = manager.IndexToNode(from_index)\n",
    "        to_node = manager.IndexToNode(to_index)\n",
    "        return dist_matrix[from_node][to_node]\n",
    "    \n",
    "    transit_callback_index = routing.RegisterTransitCallback(distance_callback)\n",
    "    routing.SetArcCostEvaluatorOfAllVehicles(transit_callback_index)\n",
    "    \n",
    "    # Set the search parameters\n",
    "    search_parameters = pywrapcp.DefaultRoutingSearchParameters()\n",
    "    search_parameters.first_solution_strategy = (\n",
    "        routing_enums_pb2.FirstSolutionStrategy.PATH_CHEAPEST_ARC)\n",
    "    \n",
    "    # Solve the problem\n",
    "    solution = routing.SolveWithParameters(search_parameters)\n",
    "    \n",
    "    # Extract the solution\n",
    "    route = []\n",
    "    index = routing.Start(0)\n",
    "    while not routing.IsEnd(index):\n",
    "        node = manager.IndexToNode(index)\n",
    "        route.append(locations[node])\n",
    "        index = solution.Value(routing.NextVar(index))\n",
    "    route.append(locations[manager.IndexToNode(index)])\n",
    "    \n",
    "    return route\n",
    "\n",
    "\n",
    "# Example usage\n",
    "locations = np.array([\n",
    "    [0, 0],  # Starting point\n",
    "    [1, 3],  # Delivery location 1\n",
    "    [5, 2],  # Delivery location 2\n",
    "    [3, 6],  # Delivery location 3\n",
    "    [2, 4],  # Delivery location 4\n",
    "])\n",
    "\n",
    "# Solve the TSP to find the optimal route\n",
    "optimal_route = solve_tsp(locations)\n",
    "\n",
    "# Print the optimal route\n",
    "for i, location in enumerate(optimal_route):\n",
    "    print(f\"Stop {i+1}: {location}\")\n"
   ]
  },
  {
   "cell_type": "code",
   "execution_count": null,
   "metadata": {},
   "outputs": [],
   "source": []
  },
  {
   "cell_type": "code",
   "execution_count": null,
   "metadata": {},
   "outputs": [],
   "source": []
  }
 ],
 "metadata": {
  "kernelspec": {
   "display_name": "Python [conda env:python310] *",
   "language": "python",
   "name": "conda-env-python310-py"
  },
  "language_info": {
   "codemirror_mode": {
    "name": "ipython",
    "version": 3
   },
   "file_extension": ".py",
   "mimetype": "text/x-python",
   "name": "python",
   "nbconvert_exporter": "python",
   "pygments_lexer": "ipython3",
   "version": "3.10.11"
  }
 },
 "nbformat": 4,
 "nbformat_minor": 4
}
